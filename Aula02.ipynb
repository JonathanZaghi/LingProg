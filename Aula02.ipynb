{
 "cells": [
  {
   "cell_type": "markdown",
   "metadata": {},
   "source": [
    " 1.Crie um programa que recebe uma lista de números e\n",
    " - retorne o maior elemento\n",
    " - retorne a soma dos elementos\n",
    " - retorne o número de ocorrências do primeiro elemento da lista\n",
    " - retorne a média dos elementos\n",
    " - retorne o valor mais próximo da média dos elementos\n",
    " - retorne a soma dos elementos com valor negativo\n",
    " - retorne a quantidade de vizinhos iguais"
   ]
  },
  {
   "cell_type": "code",
   "execution_count": 11,
   "metadata": {},
   "outputs": [
    {
     "name": "stdout",
     "output_type": "stream",
     "text": [
      "O maior Elemento é 10\n",
      "A soma dos valores é 55\n",
      "A quantidade de valores iguais a primeira ocorrencia é 1\n",
      "A média dos valores da lista é 5.0\n"
     ]
    }
   ],
   "source": [
    "lista = [0,1,2,3,4,5,6,7,8,9,10]\n",
    "maior_numero = 0\n",
    "soma_numeros = 0 \n",
    "num_iguais = 0\n",
    "media_num = 0\n",
    "media_prox = 0\n",
    "\n",
    "for i in lista:\n",
    "    if(lista[i] > maior_numero):\n",
    "        maior_numero = lista[i]\n",
    "for j in lista:\n",
    "    soma_numeros = soma_numeros + lista[j]\n",
    "prim_num = lista[0]\n",
    "for repetido in lista:\n",
    "    if(lista[repetido] == prim_num):\n",
    "        num_iguais = num_iguais + 1\n",
    "media_num = soma_numeros/len(lista)\n",
    "diferenca = 0\n",
    "for mediaprox in lista:\n",
    "    \n",
    "    \n",
    "print(\"O maior Elemento é {}\" .format(maior_numero))\n",
    "print(\"A soma dos valores é {}\" .format(soma_numeros))\n",
    "print(\"A quantidade de valores iguais a primeira ocorrencia é {}\" .format(num_iguais))\n",
    "print(\"A média dos valores da lista é {}\" .format(media_num))\n"
   ]
  },
  {
   "cell_type": "markdown",
   "metadata": {},
   "source": [
    "2.Faça um programa que receba duas listas e retorne True se são iguais ou False casocontrario.Duas listas são iguais se possuem os mesmos valores e na mesma ordem."
   ]
  },
  {
   "cell_type": "code",
   "execution_count": 38,
   "metadata": {},
   "outputs": [
    {
     "name": "stdout",
     "output_type": "stream",
     "text": [
      "As lista são iguais? False\n"
     ]
    }
   ],
   "source": [
    "lista1 = [0,1,2,3,4,5,6,7,8,9,10]\n",
    "lista2 = [0,1,2,3,4,5,6,7,8,9,9]\n",
    "lista_iguais = False\n",
    "for i in lista1:\n",
    "    if(lista1[i] == lista2[i]):\n",
    "        lista_iguais = True\n",
    "    else:\n",
    "        lista_iguais = False\n",
    "print(\"As lista são iguais? {}\" .format(lista_iguais))\n"
   ]
  },
  {
   "cell_type": "markdown",
   "metadata": {},
   "source": [
    "3.Faça um programa que receba duas listas e retorne True se têm os mesmos elementos ou False caso contrárioDuas listas possuem os mesmos elementos quando são compostas pelos mesmos valores, mas não obrigatoriamente na mesma ordem."
   ]
  },
  {
   "cell_type": "code",
   "execution_count": 103,
   "metadata": {},
   "outputs": [
    {
     "name": "stdout",
     "output_type": "stream",
     "text": [
      "A lista são iguais? False\n"
     ]
    }
   ],
   "source": [
    "lista1 = [0,1,2,3,4,5,6,7,8,9,10]\n",
    "lista2 = [0,1,2,3,4,10,6,7,8,9,10]\n",
    "listaaux = lista2\n",
    "listaaux.sort()\n",
    "lista_msm_valor = False\n",
    "for i in range(11):\n",
    "        if(lista1[i] == listaaux[i]):\n",
    "            lista_msm_valor = True\n",
    "        else:\n",
    "            lista_msm_valor = False\n",
    "            break\n",
    "print(\"A lista são iguais? {}\" . format(lista_msm_valor))"
   ]
  },
  {
   "cell_type": "markdown",
   "metadata": {},
   "source": [
    "4.Faça um programa que percorre uma lista com o seguinte formato: [['Brasil', 'Italia', [10, 9]], ['Brasil', 'Espanha', [5, 7]], ['Italia', 'Espanha', [7,8]]]. Essa lista indica onúmero de faltas que cada time fez em cada jogo. Na lista acima, no jogo entre Brasile Itália, o Brasil fez 10 faltas e a Itália fez 9.O programa deve imprimir na tela:\n",
    "- o total de faltas do campeonato \n",
    "- o time que fez mais faltas\n",
    "- o time que fez menos falt"
   ]
  },
  {
   "cell_type": "code",
   "execution_count": 98,
   "metadata": {},
   "outputs": [
    {
     "name": "stdout",
     "output_type": "stream",
     "text": [
      "O total de faltas é 46\n",
      "O time que mais fez falta é Italia com 16\n",
      "O time que menos fez falta foi o Espanha com 15\n"
     ]
    }
   ],
   "source": [
    "lista_copa = [['Brasil', 'Italia', [10, 9]], ['Brasil', 'Espanha', [5, 7]], ['Italia', 'Espanha', [7,8]]]\n",
    "somaF = 0\n",
    "time_mF = []\n",
    "time_mnF = []\n",
    "faltas_time1 = [lista_copa[0][0],lista_copa[0][2][0]+lista_copa[1][2][0]]\n",
    "faltas_time2 = [lista_copa[0][1],lista_copa[0][2][1]+lista_copa[2][2][0]]\n",
    "faltas_time3 = [lista_copa[1][1],lista_copa[1][2][1]+lista_copa[2][2][1]]\n",
    "for i in range(3):\n",
    "    for x in range(2):\n",
    "            somaF = somaF + lista_copa[i][2][x]\n",
    "if(faltas_time1[1] > faltas_time2[1] and faltas_time1[1] > faltas_time3[1]):\n",
    "    time_mF = [faltas_time1[0],faltas_time1[1]]\n",
    "if(faltas_time2[1] > faltas_time1[1] and faltas_time2[1] > faltas_time3[1]):\n",
    "        time_mF = [faltas_time2[0],faltas_time2[1]]\n",
    "else:\n",
    "        time_mF = [faltas_time3[0],faltas_time3[1]]\n",
    "\n",
    "if(faltas_time1[1] < faltas_time2[1] and faltas_time1[1] < faltas_time3[1]):\n",
    "    time_mnF = [faltas_time1[0],faltas_time1[1]]\n",
    "if(faltas_time2[1] < faltas_time1[1] and faltas_time2[1] < faltas_time3[1]):\n",
    "        time_mnF = [faltas_time2[0],faltas_time2[1]]\n",
    "else:\n",
    "        time_mnF = [faltas_time3[0],faltas_time3[1]]\n",
    "    \n",
    "print(\"O total de faltas é {}\".format(somaF))\n",
    "print(\"O time que mais fez falta é {} com {}\".format(time_mF[0],time_mF[1]))\n",
    "print(\"O time que menos fez falta foi o {} com {}\" . format(time_mnF[0],time_mnF[1]))"
   ]
  },
  {
   "cell_type": "markdown",
   "metadata": {},
   "source": [
    "5.Escreva um programa que conta a quantidade de vogais em uma string e armazenatal quantidade em um dicionário, onde a chave é a vogal considerada."
   ]
  },
  {
   "cell_type": "code",
   "execution_count": 114,
   "metadata": {},
   "outputs": [
    {
     "data": {
      "text/plain": [
       "{'a': 0, 'e': 0, 'i': 0, 'o': 0, 'u': 0}"
      ]
     },
     "execution_count": 114,
     "metadata": {},
     "output_type": "execute_result"
    }
   ],
   "source": [
    "string = \"abcdee\"\n",
    "dicionario = {'a':0, 'e':0,'i':0,'o':0, 'u':0}\n",
    "for letra in string:\\n\",\n",
    "       if letra.lower() == \\\"a\\\":\\n\",\n",
    "            dic[\\\"a\\\"] += 1\\n\",\n",
    "       if letra.lower() == \\\"e\\\":\\n\",\n",
    "           dic[\\\"e\\\"] += 1\\n\",\n",
    "       if letra.lower() == \\\"i\\\":\\n\",\n",
    "           dic[\\\"i\\\"] += 1\\n\",\n",
    "       if letra.lower() == \\\"o\\\":\\n\",\n",
    "        dic[\\\"o\\\"] += 1\\n\",\n",
    "    if letra.lower() == \\\"u\\\":\\n\",\n",
    "           dic[\\\"u\\\"] += 1\\n\",\n",
    "           \\n\",\n",
    "    \"print(\\\"Quantidade de A's:\\\", dic[\\\"a\\\"])\\n\",\n",
    "    \"print(\\\"Quantidade de E's:\\\", dic[\\\"e\\\"])\\n\",\n",
    "    \"print(\\\"Quantidade de I's:\\\", dic[\\\"i\\\"])\\n\",\n",
    "    \"print(\\\"Quantidade de O's:\\\", dic[\\\"o\\\"])\\n\",\n",
    "\"print(\\\"Quantidade de U's:\\\", dic[\\\"u\\\"])\""
   ]
  },
  {
   "cell_type": "code",
   "execution_count": null,
   "metadata": {},
   "outputs": [],
   "source": []
  }
 ],
 "metadata": {
  "kernelspec": {
   "display_name": "Python 3",
   "language": "python",
   "name": "python3"
  },
  "language_info": {
   "codemirror_mode": {
    "name": "ipython",
    "version": 3
   },
   "file_extension": ".py",
   "mimetype": "text/x-python",
   "name": "python",
   "nbconvert_exporter": "python",
   "pygments_lexer": "ipython3",
   "version": "3.7.1"
  }
 },
 "nbformat": 4,
 "nbformat_minor": 2
}
