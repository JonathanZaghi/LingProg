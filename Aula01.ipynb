{
 "cells": [
  {
   "cell_type": "markdown",
   "metadata": {},
   "source": [
    "1.Faça um programa que peça o raio de um circulo,calcule e mostre sua area."
   ]
  },
  {
   "cell_type": "code",
   "execution_count": null,
   "metadata": {},
   "outputs": [],
   "source": [
    "import math\n",
    "raio = int(input(\"Digite um raio\"))\n",
    "type (raio)\n",
    "area  = math.pi * (raio**2)\n",
    "print (f'A area do circulo de raio {raio} é {area}')"
   ]
  },
  {
   "cell_type": "markdown",
   "metadata": {},
   "source": [
    "2.Faça um Programa que calcule a área de um quadrado, em seguida mostre o dobro\n",
    "desta área para o usuário."
   ]
  },
  {
   "cell_type": "code",
   "execution_count": 4,
   "metadata": {},
   "outputs": [
    {
     "name": "stdout",
     "output_type": "stream",
     "text": [
      "digite a dimensão do lado do quadrado: 5\n",
      "O dobro da area desse quadrado e %f 50\n"
     ]
    }
   ],
   "source": [
    "dimen1 = int(input('digite a dimensão do lado do quadrado: '))\n",
    "area =  (dimen1 * dimen1) * 2\n",
    "print(\"O dobro da area desse quadrado e %f\", area)"
   ]
  },
  {
   "cell_type": "markdown",
   "metadata": {},
   "source": [
    "3.Faça um programa que pergunta quanto voce ganha por hora e o numero de horas trabalhadas no mes. Calcule e mmostra o total de seu salario no referido mes."
   ]
  },
  {
   "cell_type": "code",
   "execution_count": 10,
   "metadata": {},
   "outputs": [
    {
     "name": "stdout",
     "output_type": "stream",
     "text": [
      "Valor Hora51\n",
      "Quantidade de horas trabalhadas252\n",
      "Com valor de hora 51.00 e tendo trabalhado 252.00 hora, voce ganhara 12852.00\n",
      "\n"
     ]
    }
   ],
   "source": [
    "valor_hora = float (input (\"Valor Hora\"))\n",
    "horas_trabalhadas = float(input (\"Quantidade de horas trabalhadas\"))\n",
    "salario = valor_hora * horas_trabalhadas\n",
    "print ('Com valor de hora %.2f e tendo trabalhado %.2f hora, voce ganhara %.2f\\n'%(valor_hora, horas_trabalhadas, salario))"
   ]
  },
  {
   "cell_type": "markdown",
   "metadata": {},
   "source": [
    "4.Faça um Programa que peça a temperatura em graus Farenheit, transforme e\n",
    "mostre a temperatura em graus Celsius. C = (5 * (F-32) / 9)."
   ]
  },
  {
   "cell_type": "code",
   "execution_count": 9,
   "metadata": {},
   "outputs": [
    {
     "name": "stdout",
     "output_type": "stream",
     "text": [
      "Digite a temperatura(F)149\n",
      "A temperatura em Celsius é %f 65.0\n"
     ]
    }
   ],
   "source": [
    "F = int(input(\"Digite a temperatura(F)\"))\n",
    "C = (5 * (F-32) / 9)\n",
    "print(\"A temperatura em Celsius é %f\", C)"
   ]
  },
  {
   "cell_type": "markdown",
   "metadata": {},
   "source": [
    "5.Faça um Programa que peça a temperatura em graus Celsius, transforme e mostre\n",
    "em graus Farenheit."
   ]
  },
  {
   "cell_type": "code",
   "execution_count": 11,
   "metadata": {},
   "outputs": [
    {
     "name": "stdout",
     "output_type": "stream",
     "text": [
      "Digite a temperatura em (C)65\n",
      "A temperatura em Farenheit é 149.0\n"
     ]
    }
   ],
   "source": [
    "C = int(input(\"Digite a temperatura em (C)\"))\n",
    "F = (C*1.8)+32\n",
    "print(\"A temperatura em Farenheit é\", F)"
   ]
  },
  {
   "cell_type": "markdown",
   "metadata": {},
   "source": [
    "6.Faça um Programa que peça 2 números inteiros e um número real. Calcule e\n",
    "mostre:\n",
    "- o produto do dobro do primeiro com metade do segundo .\n",
    "- a soma do triplo do primeiro com o terceiro.\n",
    "- o terceiro elevado ao cubo."
   ]
  },
  {
   "cell_type": "code",
   "execution_count": 33,
   "metadata": {},
   "outputs": [
    {
     "name": "stdout",
     "output_type": "stream",
     "text": [
      "Digite um numero inteiro: 5\n",
      "Digite outro numero inteiro: 5\n",
      "Digite um numero real: 0.5\n",
      "Valor1: 25.0\n",
      "Valor2: 15.5\n",
      "Valor3:0.125\n"
     ]
    }
   ],
   "source": [
    "int1 = int(input(\"Digite um numero inteiro: \"))\n",
    "int2 = int(input(\"Digite outro numero inteiro: \"))\n",
    "real = float(input(\"Digite um numero real: \"))\n",
    "valor1 = ((int1*2)*(int2/2))\n",
    "valor2 = ((int1*3)+ real)\n",
    "valor3 = real**3\n",
    "print(\"Valor1:\",valor1)\n",
    "print(\"Valor2:\" ,valor2)\n",
    "print(\"Valor3:%.3f\"  %valor3)"
   ]
  },
  {
   "cell_type": "markdown",
   "metadata": {},
   "source": [
    "7.João Papo-de-Pescador, homem de bem, comprou um microcomputador para\n",
    "controlar o rendimento diário de seu trabalho. Toda vez que ele traz um peso de\n",
    "peixes maior que o estabelecido pelo regulamento de pesca do estado de São Paulo\n",
    "(50 quilos) deve pagar uma multa de R$ 4,00 por quilo excedente. João precisa que\n",
    "você faça um programa que leia a variável peso (peso de peixes) e verifique se há\n",
    "excesso. Se houver, gravar na variável excesso e na variável multa o valor da multa\n",
    "que João deverá pagar. Caso contrário mostrar tais variáveis com o conteúdo ZERO."
   ]
  },
  {
   "cell_type": "code",
   "execution_count": 27,
   "metadata": {},
   "outputs": [
    {
     "name": "stdout",
     "output_type": "stream",
     "text": [
      "Peso do peixe 52\n",
      "Multa: 8.0, Excesso: 2.0\n"
     ]
    }
   ],
   "source": [
    "quilo = float(input(\"Peso do peixe \"))\n",
    "valor_multa = 0\n",
    "if quilo > 50:\n",
    "        valor_multa = (quilo-50)*4\n",
    "    \n",
    "print('Multa: {}, Excesso: {}'.format(valor_multa,(quilo-50)))"
   ]
  },
  {
   "cell_type": "markdown",
   "metadata": {},
   "source": [
    "8.Faça um Programa que pergunte quanto você ganha por hora e o número de horas\n",
    "trabalhadas no mês. Calcule e mostre o total do seu salário no referido mês,\n",
    "sabendo-se que são descontados 11% para o Imposto de Renda, 8% para o INSS e 5%\n",
    "para o sindicato, faça um programa que nos dê:\n",
    "- salário bruto.\n",
    "- quanto pagou ao INSS.\n",
    "- quanto pagou ao sindicato.\n",
    "- o salário líquido.\n",
    "- calcule os descontos e o salário líquido, conforme a tabela abaixo:\n",
    "+ Salário Bruto : R$\n",
    "- IR (11%) : R$\n",
    "- INSS (8%) : R$\n",
    "- Sindicato ( 5%) : R$\n",
    "= Salário Liquido : R$\n",
    "Obs.: Salário Bruto - Descontos = Salário Líquido."
   ]
  },
  {
   "cell_type": "code",
   "execution_count": 1,
   "metadata": {},
   "outputs": [
    {
     "name": "stdout",
     "output_type": "stream",
     "text": [
      "Quanto voce ganha por hora: 45\n",
      "Horas trablhadas: 96\n",
      "Salario Bruto: R$ 4320.0\n",
      "INSS (8%): R$ 345.6\n",
      "IR(11%): R$ 475.2\n",
      "sindicato(5%): R$ 216.0\n",
      "Salario Liquido: R$ 3283.2\n"
     ]
    }
   ],
   "source": [
    "salH = float(input(\"Quanto voce ganha por hora: \"))\n",
    "Htrab = float(input(\"Horas trablhadas: \"))\n",
    "salarioB = salH * Htrab\n",
    "INSS =   (salarioB * 0.08)\n",
    "sindicato =  (salarioB * 0.05)\n",
    "impostoR =  (salarioB * 0.11)\n",
    "salarioL =  salarioB - (INSS+sindicato+impostoR)\n",
    "print(\"Salario Bruto: R$\",salarioB)\n",
    "print(\"INSS (8%): R$\",INSS)\n",
    "print(\"IR(11%): R$\",impostoR)\n",
    "print(\"sindicato(5%): R$\",sindicato)\n",
    "print(\"Salario Liquido: R$\",salarioL)"
   ]
  },
  {
   "cell_type": "markdown",
   "metadata": {},
   "source": [
    "9.Faça um programa que leia 2 strings e informe o conteúdo delas seguido do seu\n",
    "comprimento. Informe também se as duas strings possuem o mesmo comprimento e\n",
    "são iguais ou diferentes no conteúdo.\n",
    "Exemplo:\n",
    "String 1: Brasil Hexa 2018\n",
    "String 2: Brasil! Hexa 2018!\n",
    "Tamanho de \"Brasil Hexa 2018\": 16 caracteres\n",
    "Tamanho de \"Brasil! Hexa 2018!\": 18 caracteres\n",
    "As duas strings são de tamanhos diferentes.\n",
    "As duas strings possuem conteúdo diferente."
   ]
  },
  {
   "cell_type": "code",
   "execution_count": 70,
   "metadata": {},
   "outputs": [
    {
     "name": "stdout",
     "output_type": "stream",
     "text": [
      "Digite algum texto: Brasil Hexa 2018\n",
      "Digite outro texto: Brasil! Hexa 2018!\n",
      "O Tamanho de 'Brasil Hexa 2018'é 16 caracteres\n",
      "O Tamanho de 'Brasil! Hexa 2018!'é 18 caracteres\n",
      "As strings possuem tamanhos diferentes\n",
      "as strings possuem conteudos diferentes\n"
     ]
    }
   ],
   "source": [
    "string1 = input(\"Digite algum texto: \").strip()\n",
    "string2 = input(\"Digite outro texto: \").strip()\n",
    "tamanho = 'As strings possuem tamanhos diferentes'\n",
    "conteudo = 'as strings possuem conteudos diferentes'\n",
    "i = 0\n",
    "if(len(string1) == len(string2)):\n",
    "    tamanho = 'As strings possuem o mesmo tamanho'\n",
    "    conteudo = 'as strings possuem conteudos iguais'\n",
    "    for x in string1:\n",
    "        if(string2[i] != x):\n",
    "            conteudo = 'As strings possuem conteudos diferentes tche'\n",
    "        i = i+1        \n",
    "print(\"O Tamanho de \"+\"'{}'é {} caracteres\" . format(string1,len(string1))) \n",
    "print(\"O Tamanho de \"+\"'{}'é {} caracteres\" . format(string2,len(string2)))\n",
    "print(\"{}\".format(tamanho))\n",
    "print(\"{}\".format(conteudo))\n",
    "    "
   ]
  },
  {
   "cell_type": "markdown",
   "metadata": {},
   "source": [
    "10.Faça um programa que permita ao usuário digitar o seu nome e em seguida\n",
    "mostre o nome do usuário de trás para frente utilizando somente letras maiúsculas.\n",
    "Dica: lembre−se que ao informar o nome o usuário pode digitar letras maiúsculas ou\n",
    "minúsculas. Observação: não use loops."
   ]
  },
  {
   "cell_type": "code",
   "execution_count": 75,
   "metadata": {},
   "outputs": [
    {
     "name": "stdout",
     "output_type": "stream",
     "text": [
      "Digite o seu nomeJONATHAN ZAGHI DE FREITAS\n",
      "SATIERF ED IHGAZ NAHTANOJ\n"
     ]
    }
   ],
   "source": [
    "nome = input(\"Digite o seu nome\")\n",
    "print(nome.upper()[::-1])"
   ]
  },
  {
   "cell_type": "markdown",
   "metadata": {},
   "source": [
    "11.Faça um programa que solicite a data de nascimento (dd/mm/aaaa) do usuário e\n",
    "imprima a data com o nome do mês por extenso.\n",
    "Data de Nascimento: 29/10/1973\n",
    "Você nasceu em 29 de Outubro de 1973.\n",
    "Obs.: Não use desvio condicional nem loops."
   ]
  },
  {
   "cell_type": "code",
   "execution_count": 4,
   "metadata": {},
   "outputs": [
    {
     "name": "stdout",
     "output_type": "stream",
     "text": [
      "Digite sua data de nascimento: 11/05/1998\n",
      "Voce nasceu em: 11 de Maio de 1998\n"
     ]
    }
   ],
   "source": [
    "data = input(\"Digite sua data de nascimento: \")\n",
    "dataS = data.split('/')\n",
    "dia = dataS[0]\n",
    "ano = dataS[2]\n",
    "mes = dataS[1]\n",
    "mes = mes.replace('01','Janiero')\n",
    "mes = mes.replace('02','Fevereiro')\n",
    "mes = mes.replace('03','Março')\n",
    "mes = mes.replace('04','Abril')\n",
    "mes = mes.replace('05','Maio')\n",
    "mes = mes.replace('06','Junho')\n",
    "mes = mes.replace('07','Julho')\n",
    "mes = mes.replace('08','Agosto')\n",
    "mes = mes.replace('09','Setembro')\n",
    "mes = mes.replace('10','Outubro')\n",
    "mes = mes.replace('11','Novembro')\n",
    "mes = mes.replace('12','Dezembro')\n",
    "print(\"Voce nasceu em:\",dia+' de',mes+' de',ano)"
   ]
  },
  {
   "cell_type": "code",
   "execution_count": 6,
   "metadata": {},
   "outputs": [
    {
     "name": "stdout",
     "output_type": "stream",
     "text": [
      "Digite Um Texto Para ser Traduzido para Leet ola\n",
      "A Tradução do texto é ()£4\n"
     ]
    }
   ],
   "source": [
    "s = input('Digite Um Texto Para ser Traduzido para Leet ').strip().upper()\n",
    "s = s.replace('A', '4')\n",
    "s = s.replace('B', '|3')\n",
    "s = s.replace('C', '¢')\n",
    "s = s.replace('D', '[D')\n",
    "s = s.replace('E', '€')\n",
    "s = s.replace('F', 'ph')\n",
    "s = s.replace('G', '6')\n",
    "s = s.replace('H', '}{')\n",
    "s = s.replace('I', '!')\n",
    "s = s.replace('J', '_/')\n",
    "s = s.replace('K', '}<')\n",
    "s = s.replace('L', '£')\n",
    "s = s.replace('M', '|\\/|')\n",
    "s = s.replace('N', '/\\/')\n",
    "s = s.replace('O', '0')\n",
    "s = s.replace('P', '|>')\n",
    "s = s.replace('Q', '9')\n",
    "s = s.replace('R', '|2')\n",
    "s = s.replace('S', '§')\n",
    "s = s.replace('T', '7')\n",
    "s = s.replace('U', '(_)')\n",
    "s = s.replace('V', '\\/')\n",
    "s = s.replace('W', '\\X/')\n",
    "s = s.replace('X', '}|{')\n",
    "s = s.replace('Y', '¥')\n",
    "s = s.replace('Z', '2')\n",
    "print('A Tradução do texto é {}'.format(s))"
   ]
  },
  {
   "cell_type": "code",
   "execution_count": null,
   "metadata": {},
   "outputs": [],
   "source": []
  }
 ],
 "metadata": {
  "kernelspec": {
   "display_name": "Python 3",
   "language": "python",
   "name": "python3"
  },
  "language_info": {
   "codemirror_mode": {
    "name": "ipython",
    "version": 3
   },
   "file_extension": ".py",
   "mimetype": "text/x-python",
   "name": "python",
   "nbconvert_exporter": "python",
   "pygments_lexer": "ipython3",
   "version": "3.7.1"
  }
 },
 "nbformat": 4,
 "nbformat_minor": 2
}
