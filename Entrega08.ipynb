{
 "cells": [
  {
   "cell_type": "code",
   "execution_count": 103,
   "metadata": {},
   "outputs": [
    {
     "name": "stdout",
     "output_type": "stream",
     "text": [
      "Antes\n",
      "executando o teste...\n",
      "Antes de executar\n",
      "Hello, decorators\n",
      "Depois de executar\n"
     ]
    }
   ],
   "source": [
    "def hello (msg):    \n",
    "    def hello_decorator (funcao):\n",
    "        def fala ():\n",
    "            print (msg)\n",
    "            funcao()        \n",
    "        return fala    \n",
    "    return hello_decorator\n",
    "@hello(\"Antes\")\n",
    "def teste_pt ():\n",
    "    print (\"executando o teste...\")\n",
    "    \n",
    "teste_pt()\n",
    "def meu_primeiro_decorator (func):\n",
    "    def decorator ():\n",
    "        print (\"Antes de executar\")\n",
    "        func ()\n",
    "        print (\"Depois de executar\")\n",
    "    return decorator \n",
    "def hello_decorators ():\n",
    "        print (\"Hello, decorators\")\n",
    "hello_decorators = meu_primeiro_decorator(hello_decorators)\n",
    "hello_decorators()"
   ]
  },
  {
   "cell_type": "markdown",
   "metadata": {},
   "source": [
    "1. Escreva uma função que calcula a soma dos n primeiros números naturais, dado que n é recebido como parâmetro. Escreva um decorator que garanta que o valor recebido é natural (maior ou igual a 1)."
   ]
  },
  {
   "cell_type": "code",
   "execution_count": 130,
   "metadata": {},
   "outputs": [
    {
     "name": "stdout",
     "output_type": "stream",
     "text": [
      "Antes de executar 5\n",
      "15\n",
      "Depois de executar 5\n",
      "15\n"
     ]
    }
   ],
   "source": [
    "def hello ():    \n",
    "    def hello_decorator (funcao):\n",
    "        def fala (n):\n",
    "            print(\"Antes de executar {}\".format(n))\n",
    "            funcao(n)\n",
    "            print(\"Depois de executar {}\".format(n))\n",
    "        return fala    \n",
    "    return hello_decorator\n",
    "\n",
    "@hello()\n",
    "def teste_pt (n):\n",
    "    z = 0\n",
    "    i = 0\n",
    "    if int(n) == n:\n",
    "        while i<= n:\n",
    "            z = z+i\n",
    "            i = i+1\n",
    "        print(z)\n",
    "        \n",
    "    \n",
    "teste_pt(5)\n",
    "def meu_primeiro_decorator (func):\n",
    "    def decorator (n):\n",
    "        func (n)\n",
    "    return decorator \n",
    "def hello_decorators (n):\n",
    "    z = 0\n",
    "    i = 0\n",
    "    if int(n) == n:\n",
    "        while i<= n:\n",
    "            z = z+i\n",
    "            i = i+1\n",
    "        print(z)\n",
    "        \n",
    "hello_decorators = meu_primeiro_decorator(hello_decorators)\n",
    "hello_decorators(5)"
   ]
  },
  {
   "cell_type": "markdown",
   "metadata": {},
   "source": [
    "2. Escreva uma função que recebe uma lista de triplas e, para cada uma, gera uma equação do segundo grau considerando que os elementos da tripla são os coeficientes usualmente denominados a, b e c da equação. Note que a sua função deverá devolver uma lista de equações. A geração das equações deve ser feita por meio de, evidentemente, decorators.\n",
    "ax² + bx + c = 0"
   ]
  },
  {
   "cell_type": "code",
   "execution_count": 109,
   "metadata": {},
   "outputs": [
    {
     "name": "stdout",
     "output_type": "stream",
     "text": [
      "2x^2 + 2x + 2\n",
      "3x^2 + 3x + 3\n",
      "4x^2 + 4x + 4\n",
      "2x^2 + 2x + 2\n",
      "3x^2 + 3x + 3\n",
      "4x^2 + 4x + 4\n"
     ]
    }
   ],
   "source": [
    "def hello ():    \n",
    "    def hello_decorator (funcao):\n",
    "        def fala (n):\n",
    "            funcao(n)        \n",
    "        return fala    \n",
    "    return hello_decorator\n",
    "\n",
    "@hello()\n",
    "def teste_pt (x):\n",
    "    for i in range (0,len(x)):\n",
    "        print(\"{}x^2 + {}x + {}\".format(x[i][0], x[i][1],x[i][2]))\n",
    "        \n",
    "x = [[2,2,2],[3,3,3],[4,4,4]]   \n",
    "teste_pt(x)\n",
    "\n",
    "def meu_primeiro_decorator (func):\n",
    "    def decorator (n):\n",
    "        func (n)\n",
    "    return decorator \n",
    "def hello_decorators (x):\n",
    "    for i in range (0,len(x)):\n",
    "        print(\"{}x^2 + {}x + {}\".format(x[i][0], x[i][1],x[i][2]))\n",
    "        \n",
    "hello_decorators = meu_primeiro_decorator(hello_decorators)\n",
    "hello_decorators(x)"
   ]
  },
  {
   "cell_type": "markdown",
   "metadata": {},
   "source": [
    "3. Escreva uma função que exibe uma lista recebida como parâmetro. Ela deve, contudo, ordenar a lista antes. A ordenação deve ser feita por meio de um decorator."
   ]
  },
  {
   "cell_type": "code",
   "execution_count": 124,
   "metadata": {},
   "outputs": [
    {
     "name": "stdout",
     "output_type": "stream",
     "text": [
      "[[2, 3, 7], [3, 5, 7], [1, 2, 6]]\n",
      "2x^2 + 3x + 7\n",
      "3x^2 + 5x + 7\n",
      "1x^2 + 2x + 6\n"
     ]
    }
   ],
   "source": [
    "def hello (msg):    \n",
    "    def hello_decorator (funcao):\n",
    "        def fala (n):\n",
    "            funcao(n)\n",
    "        return fala    \n",
    "    return hello_decorator\n",
    "\n",
    "@hello(\"Antes\")\n",
    "def teste_pt (x):\n",
    "    for j in range(0,len(x)):\n",
    "        for i in range( 1, len( x ) ):\n",
    "            chave = x[j][i]\n",
    "            k = i\n",
    "            while k > 0 and chave < x[j][k - 1]:\n",
    "                x[j][k] = x[j][k - 1]\n",
    "                k -= 1\n",
    "            x[j][k] = chave\n",
    "        \n",
    "x = [[3,2,7],[7,5,3],[2,1,6]]   \n",
    "teste_pt(x)\n",
    "print(x)\n",
    "\n",
    "def meu_primeiro_decorator (func):\n",
    "    def decorator (n):\n",
    "        func (n)\n",
    "    return decorator \n",
    "def hello_decorators (x):\n",
    "    for i in range (0,len(x)):\n",
    "        print(\"{}x^2 + {}x + {}\".format(x[i][0], x[i][1],x[i][2]))\n",
    "        \n",
    "hello_decorators = meu_primeiro_decorator(hello_decorators)\n",
    "hello_decorators(x)"
   ]
  },
  {
   "cell_type": "markdown",
   "metadata": {},
   "source": [
    "4. Escreva uma classe para representar um café que, a princípio, tem somente preço.Um cafezinho custa 5 reais. Escreva classes para representar os adicionais: palitos dechocolate (0,50 cents), espuma de leite (0,20 cents), caramelo (0,10 cents) e canela (0,30 cents). Crie um objeto café e, a seguir, faça um menuzinho em que o usuário pode ficar indefinidamente escolhendo adicionais: 1 para chocolate, 2 para espuma de leite, 3 para caramelo e 4 para canela. A cada adicional escolhido, decore o objetocafé. No final, mostre o preço total."
   ]
  },
  {
   "cell_type": "code",
   "execution_count": null,
   "metadata": {},
   "outputs": [],
   "source": []
  },
  {
   "cell_type": "code",
   "execution_count": null,
   "metadata": {},
   "outputs": [],
   "source": []
  }
 ],
 "metadata": {
  "kernelspec": {
   "display_name": "Python 3",
   "language": "python",
   "name": "python3"
  },
  "language_info": {
   "codemirror_mode": {
    "name": "ipython",
    "version": 3
   },
   "file_extension": ".py",
   "mimetype": "text/x-python",
   "name": "python",
   "nbconvert_exporter": "python",
   "pygments_lexer": "ipython3",
   "version": "3.7.1"
  }
 },
 "nbformat": 4,
 "nbformat_minor": 2
}
