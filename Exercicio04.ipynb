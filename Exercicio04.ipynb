{
 "cells": [
  {
   "cell_type": "markdown",
   "metadata": {},
   "source": [
    "1 Menor de dois pares: Escreva uma função que retorne o menor de dois números dados se ambos os números forem pares, mas retorna o maior se um dos dois for ímpar. Exemplo:\n",
    "menor_de_dois_pares(2,4) --> 2\n",
    "menor_de_dois_pares (2,5) --> 5"
   ]
  },
  {
   "cell_type": "code",
   "execution_count": null,
   "metadata": {},
   "outputs": [],
   "source": [
    "menor_de_dois_pares = (10,12)\n",
    "\n",
    "x(menor_de_dois_pares)\n",
    "def x (menor_de_dois_pares):\n",
    "    if(menor_de_dois_pares[0]%2 == 0 and menor_de_dois_pares[1]%2 == 0 ):\n",
    "        if(menor_de_dois_pares[0] < menor_de_dois_pares[1]):\n",
    "            return print(\"O menor é {}\" .format(menor_de_dois_pares[0]))\n",
    "        else:\n",
    "            return print(\"O menor é {}\" .format(menor_de_dois_pares[1]))\n",
    "    else:\n",
    "        if(menor_de_dois_pares[1] > menor_de_dois_pares[0]):\n",
    "            return print(\"O maior é {}\" .format(menor_de_dois_pares[1]))\n",
    "        else:\n",
    "            return print(\"O maior é {}\" .format(menor_de_dois_pares[0]))\n",
    "        \n"
   ]
  },
  {
   "cell_type": "markdown",
   "metadata": {},
   "source": [
    "2 Mesma letra: Escreva uma função que receba uma string com duas palavras e retorne True se ambas palavras começarem com a mesma letra. \n",
    "Exemplo:\n",
    "mesma_letra('Cão covarde') -> True\n",
    "mesma_letra('Vira Lata') -> False"
   ]
  },
  {
   "cell_type": "code",
   "execution_count": null,
   "metadata": {},
   "outputs": [],
   "source": [
    "mesma_letra = ('Carlinhos', 'Carlos alberto de noebrega')\n",
    "\n",
    "x(mesma_letra)\n",
    "def x (mesma_letra):\n",
    "    l1 = mesma_letra[0][0:1].lower()\n",
    "    l2 = mesma_letra[1][0:1].lower()\n",
    "    if(l1 == l2):\n",
    "        return print(\"{} e {} começam com a mesma letra: {}\" .format(mesma_letra[0],mesma_letra[1],l1))\n",
    "    else:\n",
    "        return print(\"{} e {} não começam com a mesma letra: {} e {}\" .format(mesma_letra[0],mesma_letra[1],l1,l2))"
   ]
  },
  {
   "cell_type": "markdown",
   "metadata": {},
   "source": [
    "3 Mestre Yoda: Dada uma sentença, a função deve retornar a sentença com as palavras na ordem reversa.\n",
    "Exemplo:\n",
    "mestre_yoda('Eu estou em casa') --> 'casa em estou Eu'\n",
    "mestre_yoda('Estamos prontos') --> 'prontos Estamos'"
   ]
  },
  {
   "cell_type": "code",
   "execution_count": null,
   "metadata": {},
   "outputs": [],
   "source": [
    "Mestre_Yoda = 'Eu voltarei'\n",
    "def x (Mestre_Yoda):\n",
    "    l1 = Mestre_Yoda.split()\n",
    "    l2 = l1[1] + ' '\n",
    "    l2 += l1[0]\n",
    "    print(\"Sentença original: {}, nova sentença {}\".format(Mestre_Yoda,l2 ))\n",
    "x(Mestre_Yoda)"
   ]
  },
  {
   "cell_type": "markdown",
   "metadata": {},
   "source": [
    "4 Tem 33: Faça uma função que retorne True se, dada uma lista de inteiros, houver em alguma posição da lista um 3 do lado de outro 3. \n",
    "Exemplo:tem_33([1,3,3]) --> True\n",
    "tem_33([1,3,1,3]) --> False\n",
    "tem_33([3,1,3]) --> False"
   ]
  },
  {
   "cell_type": "code",
   "execution_count": null,
   "metadata": {},
   "outputs": [],
   "source": [
    "\n",
    "def tem_33 (lista):\n",
    "    estado = 'nada'\n",
    "    for n in lista:\n",
    "        if n == 3 and estado == 'nada':\n",
    "            estado = '3'\n",
    "        elif n == 3 and estado == '3':\n",
    "            return True\n",
    "        else:\n",
    "            estado = 'nada'\n",
    "    else:\n",
    "        return False\n",
    "tem_33([1,3,3])"
   ]
  },
  {
   "cell_type": "markdown",
   "metadata": {},
   "source": [
    "5 Blackjack: Faça uma função que receba 3 inteiros entre 1 e 11. Se a soma deles for menor que 21, retorne o valor da soma. Se for mair do que 21 e houver um 11, \n",
    "subtraia 10 da soma antes de apresentar o resultado. Se o valor da soma passar de 21, retorne ‘ESTOUROU’.\n",
    "Exemplo: \n",
    "Exemplo:blackjack(5,6,7) --> 18\n",
    "blackjack(9,9,9) --> 'ESTOUROU'\n",
    "blackjack(9,9,11) --> 19"
   ]
  },
  {
   "cell_type": "code",
   "execution_count": 7,
   "metadata": {},
   "outputs": [
    {
     "name": "stdout",
     "output_type": "stream",
     "text": [
      "21\n"
     ]
    }
   ],
   "source": [
    "def blackjack(lista):\n",
    "    valorsoma = 0\n",
    "    for n in lista:\n",
    "        valorsoma = valorsoma + n\n",
    "        if(valorsoma > 21):\n",
    "            return print(\"Estourou\")\n",
    "    else:\n",
    "        print(\"{}\" .format(valorsoma))\n",
    "blackjack([21])\n",
    "        "
   ]
  },
  {
   "cell_type": "markdown",
   "metadata": {},
   "source": [
    "6 Espião: Escreva uma função que receba uma lista de inteiros e retorne True se contém um 007 em ordem, mesmo que não contínuo. Exemplo:\n",
    "spiao([1,2,4,0,0,7,5]) --> True\n",
    "espiao([1,0,2,4,0,5,7]) --> True\n",
    "espiao([1,7,2,4,0,5,0]) --> False"
   ]
  },
  {
   "cell_type": "code",
   "execution_count": 12,
   "metadata": {},
   "outputs": [
    {
     "name": "stdout",
     "output_type": "stream",
     "text": [
      "Sim, temos um espiao\n"
     ]
    }
   ],
   "source": [
    "def espiao (lista):\n",
    "    estado = 'nada'\n",
    "    for n in lista:\n",
    "        if n == 0 and estado == 'nada':\n",
    "            estado = '0'\n",
    "        elif n == 0  and estado == '0':\n",
    "            estado = '00'\n",
    "        elif n == 7 and estado == '00':\n",
    "            print (\"Sim, temos um espiao\")\n",
    "            break\n",
    "    else:\n",
    "        print (\"tem espiao aqui n palhaço\")\n",
    "espiao([1,2,4,0,0,7,5])"
   ]
  },
  {
   "cell_type": "code",
   "execution_count": null,
   "metadata": {},
   "outputs": [],
   "source": []
  }
 ],
 "metadata": {
  "kernelspec": {
   "display_name": "Python 3",
   "language": "python",
   "name": "python3"
  },
  "language_info": {
   "codemirror_mode": {
    "name": "ipython",
    "version": 3
   },
   "file_extension": ".py",
   "mimetype": "text/x-python",
   "name": "python",
   "nbconvert_exporter": "python",
   "pygments_lexer": "ipython3",
   "version": "3.7.1"
  }
 },
 "nbformat": 4,
 "nbformat_minor": 2
}
