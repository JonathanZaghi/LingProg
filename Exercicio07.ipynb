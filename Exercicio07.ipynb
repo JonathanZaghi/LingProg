{
 "cells": [
  {
   "cell_type": "markdown",
   "metadata": {},
   "source": [
    "1.Defina a função soma_nat que recebe como argumento um número natural n e devolve a soma de todos os números naturais até n."
   ]
  },
  {
   "cell_type": "code",
   "execution_count": 2,
   "metadata": {},
   "outputs": [],
   "source": [
    "soma_nat = lambda x: x + soma_nat(x-1) if x > 1 else 1\n",
    "\n",
    "assert(soma_nat(5) == 15)"
   ]
  },
  {
   "cell_type": "markdown",
   "metadata": {},
   "source": [
    "2.Defina a função div que recebe como argumentos dois números naturais m e n e devolve o resultado da divisão inteira de m por n. Neste exercício você não pode recorrer às operações aritméticas de multiplicação, divisão e resto da divisão inteira."
   ]
  },
  {
   "cell_type": "code",
   "execution_count": null,
   "metadata": {},
   "outputs": [],
   "source": [
    "div_recursivo = lambda x, y: 0 if x - y < 1 else 1 + div(x-y, y)\n",
    "\n",
    "assert(div_recursivo(7,2) == 3)"
   ]
  },
  {
   "cell_type": "markdown",
   "metadata": {},
   "source": [
    "3.Defina a função prim_alg que recebe como argumento um número natural e devolve o primeiro algarismo (o mais significativo) na representação decimal de n"
   ]
  },
  {
   "cell_type": "code",
   "execution_count": 5,
   "metadata": {},
   "outputs": [],
   "source": [
    "prim_alg = lambda x: int(str(x)[0])\n",
    "\n",
    "assert(prim_alg(5649) == 5)\n",
    "assert(prim_alg(7) == 7)"
   ]
  },
  {
   "cell_type": "markdown",
   "metadata": {},
   "source": [
    "4.Defina a função prod_lista que recebe como argumento uma lista de inteiros e devolve o produto dos seus elementos."
   ]
  },
  {
   "cell_type": "code",
   "execution_count": 6,
   "metadata": {},
   "outputs": [],
   "source": [
    "prod_lista = lambda x: x[0] * prod_lista(x[1:]) if len(x) > 1 else x[0]\n",
    "\n",
    "assert(prod_lista([1,2,3,4,5,6]) == 720)"
   ]
  },
  {
   "cell_type": "markdown",
   "metadata": {},
   "source": [
    "5.Defina a função contem_parQ que recebe como argumento uma lista de números inteiros w e devolve True se w contém um número par e False em caso contrário"
   ]
  },
  {
   "cell_type": "code",
   "execution_count": null,
   "metadata": {},
   "outputs": [],
   "source": [
    "contem_parQ = lambda w: bool([1 for x in w if x % 2 == 0])\n",
    "\n",
    "assert(contem_parQ([2,3,1,2,3,4]) == True)\n",
    "assert(contem_parQ([1,3,5,7]) == False)"
   ]
  },
  {
   "cell_type": "markdown",
   "metadata": {},
   "source": [
    "6.Defina a função todos_imparesQ que recebe como argumento uma lista de números inteiros w e devolve True se w contém apenas números ímpares e False em caso contrário"
   ]
  },
  {
   "cell_type": "code",
   "execution_count": null,
   "metadata": {},
   "outputs": [],
   "source": [
    "todos_imparesQ = lambda w: len(w) == sum([ 1 for x in w if x % 2 != 0])\n",
    "\n",
    "assert(todos_imparesQ([1,3,5,7]) == True)"
   ]
  },
  {
   "cell_type": "markdown",
   "metadata": {},
   "source": [
    "7.Defina a função pertenceQ que recebe como argumentos uma lista de números inteiros w e um número inteiro n e devolve True se n ocorre em w e False em caso contrário."
   ]
  },
  {
   "cell_type": "code",
   "execution_count": null,
   "metadata": {},
   "outputs": [],
   "source": [
    "pertenceQ = lambda w, n: n in w\n",
    "\n",
    "assert(pertenceQ([1,2,3],1) == True)\n",
    "assert(pertenceQ([1,2,3],0) == False)"
   ]
  },
  {
   "cell_type": "markdown",
   "metadata": {},
   "source": [
    "8.Defina a função junta que recebe como argumentos duas listas de números inteiros w1 e w2 e devolve a concatenação de w1 com w2"
   ]
  },
  {
   "cell_type": "code",
   "execution_count": null,
   "metadata": {},
   "outputs": [],
   "source": [
    "junta = lambda w1, w2: w1 + w2\n",
    "\n",
    "assert(junta([1,2,3],[4,5,6]) == [1, 2, 3, 4, 5, 6])\n",
    "assert(junta([],[4,5,6]) == [4, 5, 6])\n",
    "assert(junta([1,2,3],[]) == [1, 2, 3])"
   ]
  },
  {
   "cell_type": "markdown",
   "metadata": {},
   "source": [
    "10.Defina a função inverteLista que recebe como argumento uma lista w e devolve a mesma lista mas invertida"
   ]
  },
  {
   "cell_type": "code",
   "execution_count": null,
   "metadata": {},
   "outputs": [],
   "source": [
    "inverteLista = lambda w: w[::-1]\n",
    "\n",
    "assert((inverteLista([1,2,3,4,5])) == [5, 4, 3, 2, 1])\n",
    "assert(inverteLista([]) == [])\n",
    "\n"
   ]
  },
  {
   "cell_type": "code",
   "execution_count": null,
   "metadata": {},
   "outputs": [],
   "source": []
  }
 ],
 "metadata": {
  "kernelspec": {
   "display_name": "Python 3",
   "language": "python",
   "name": "python3"
  },
  "language_info": {
   "codemirror_mode": {
    "name": "ipython",
    "version": 3
   },
   "file_extension": ".py",
   "mimetype": "text/x-python",
   "name": "python",
   "nbconvert_exporter": "python",
   "pygments_lexer": "ipython3",
   "version": "3.7.1"
  }
 },
 "nbformat": 4,
 "nbformat_minor": 2
}
