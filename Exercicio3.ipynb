{
 "cells": [
  {
   "cell_type": "markdown",
   "metadata": {},
   "source": [
    " 1.Faça um Programa que peça dois números e imprima o maior deles"
   ]
  },
  {
   "cell_type": "code",
   "execution_count": null,
   "metadata": {},
   "outputs": [],
   "source": [
    "num1 = int(input(\"Digite um numero: \"))\n",
    "num2 = int(input(\"Digite outro numero: \"))\n",
    "maiornumero = 0\n",
    "if(num1 > num2):\n",
    "    maiornumero = num1\n",
    "    \n",
    "if(num2 > num1):\n",
    "    maiornumero = num2\n",
    "     \n",
    "print(\"o maior numero é {} \".format(maiornumero))"
   ]
  },
  {
   "cell_type": "markdown",
   "metadata": {},
   "source": [
    "2.Faça um Programa que verifique se uma letra digitada é vogal ou consoante."
   ]
  },
  {
   "cell_type": "code",
   "execution_count": null,
   "metadata": {},
   "outputs": [],
   "source": [
    "x = input(\"Digite uma letra: \").lower()\n",
    "\n",
    "if(x == 'a' or x == 'e'or x == 'i' or x == 'o' or x == 'u'):\n",
    "    print(\"A letra {} é vogal\" .format(x))\n",
    "else:\n",
    "    print(\"A letra {} é consoante\" .format(x))"
   ]
  },
  {
   "cell_type": "markdown",
   "metadata": {},
   "source": [
    " 3.Faça um programa para a leitura de duas notas parciais de um aluno. O programa deve calcular a média alcançada por aluno e apresentar:\n",
    " - A mensagem \"Aprovado\", se a média alcançada for maior ou igual a sete;\n",
    " - A mensagem \"Reprovado\", se a média for menor do que sete;\n",
    " - A mensagem \"Aprovado com Distinção\", se a média for igual a dez."
   ]
  },
  {
   "cell_type": "code",
   "execution_count": null,
   "metadata": {},
   "outputs": [],
   "source": [
    "nota1 = int(input(\"Digite a primeira nota\"))\n",
    "nota2 = int(input(\"Digite a segunda nota\"))\n",
    "media = (nota1 + nota2)/2\n",
    "\n",
    "if(media == 10):\n",
    "    print(\"O Aluno foi aprovado com distinção com {}\" .format(media))\n",
    "else:\n",
    "    if(media <= 7):\n",
    "        print(\"O aluno foi reprovado com {}\" .format(media))\n",
    "    else:\n",
    "        print(\"O Aluno foi aprovado com {}\" .format(media))"
   ]
  },
  {
   "cell_type": "markdown",
   "metadata": {},
   "source": [
    "4. Faça um Programa que leia três números e mostre-os em ordem decrescente"
   ]
  },
  {
   "cell_type": "code",
   "execution_count": null,
   "metadata": {},
   "outputs": [],
   "source": [
    "num1 = int(input(\"Digite um numero\"))\n",
    "num2 = int(input(\"Digite um numero\"))\n",
    "num3 = int(input(\"Digite um numero\"))\n",
    "if(num1 > num2 and num1 > num3 and num2 > num3):\n",
    "    print(num1,num2,num3)\n",
    "else:\n",
    "    if(num1 > num2 and num1 > num3 and num3 > num2):\n",
    "        print(num1,num3,num2)\n",
    "    else:\n",
    "        if(num2 > num1 and num2 > num3 and num1 > num3):\n",
    "            print(num2,num1,num3)\n",
    "        else:\n",
    "            if(num2 > num1 and num2 > num3 and num3 > num1):\n",
    "                print(num2,num3,num1)\n",
    "            else:\n",
    "                if(num3 > num1 and num3 > num2 and num1 > num2):\n",
    "                    print(num3,num1,num2)\n",
    "                else:\n",
    "                    if(num3 > num1 and num3 > num2 and num2 > num1):\n",
    "                        print(num3,num2,num1)\n"
   ]
  },
  {
   "cell_type": "markdown",
   "metadata": {},
   "source": [
    "5. As Organizações Tabajara resolveram dar um aumento de salário aos seus colaboradores e lhe contrataram para desenvolver o programa que calculará os reajustes.Faça um programa que recebe o salário de um colaborador e o reajuste segundo o seguinte critério, baseado no salário atual:\n",
    "- salários até R$ 280,00 (incluindo) : aumento de 20%\n",
    "- salários entre R$ 280,00 e R$ 700,00 : aumento de 15%\n",
    "- salários entre R$ 700,00 e R$ 1500,00 : aumento de 10%\n",
    "- salários de R$ 1500,00 em diante : aumento de 5% Após o aumento ser realizado, informe na tela:\n",
    "- o salário antes do reajuste;\n",
    "- o percentual de aumento aplicado;\n",
    "- o valor do aumento;\n",
    "- o novo salário, após o aumento"
   ]
  },
  {
   "cell_type": "code",
   "execution_count": null,
   "metadata": {},
   "outputs": [],
   "source": [
    "salario = int(input(\"Digite o salario: \"))\n",
    "valor_reajuaste = 0\n",
    "salario_reajuste = 0\n",
    "percentual =0\n",
    "if(salario <= 280):\n",
    "    percentual = 0.2\n",
    "    valor_reajuste = salario*percentual\n",
    "    salario_reajuste = valor_reajuste + salario\n",
    "else:\n",
    "    if(salario >= 280 and salario <= 700):\n",
    "        percentual = 0.15\n",
    "        valor_reajuste = salario*percentual\n",
    "        salario_reajuste = valor_reajuste + salario\n",
    "    else:\n",
    "        if(salario >= 700 and salario <= 1500):\n",
    "            percentual = 0.1\n",
    "            valor_reajuste = salario*percentual\n",
    "            salario_reajuste = valor_reajuste + salario\n",
    "        else:\n",
    "            percentual = 0.2\n",
    "            valor_reajuste = salario*percentual\n",
    "            salario_reajuste = valor_reajuste + salario\n",
    "print(\"Salario antes do reajuste {} \".format(salario))\n",
    "print(\"Aumento aplicado {}\" .format(valor_reajuste))\n",
    "print(\"Percentual aplicado{}\" .format(percentual))\n",
    "print(\"Novo salario {}\".format(salario_reajuste))\n",
    "        \n",
    "\n",
    "    "
   ]
  },
  {
   "cell_type": "markdown",
   "metadata": {},
   "source": [
    " 6.Faça um Programa que leia um número e exiba o dia correspondente da semana. (1-Domingo, 2- Segunda, etc.), se digitar outro valor deve aparecer valor inválido"
   ]
  },
  {
   "cell_type": "code",
   "execution_count": null,
   "metadata": {},
   "outputs": [],
   "source": [
    "dia = int(input(\"Digite um numero de 1 a 7 representando o dia da semana\"))\n",
    "if(dia == 1):\n",
    "    print(\"Hoje é domingo\")\n",
    "else:\n",
    "    if(dia == 2):\n",
    "        print(\"Hoje é segunda-feira\")\n",
    "    else:\n",
    "        if(dia == 3):\n",
    "            print(\"Hoje é terça-feira\")\n",
    "        else:\n",
    "            if(dia == 4):\n",
    "                print(\"Hoje é qurta-feira\")\n",
    "            else:\n",
    "                if(dia == 5):\n",
    "                    print(\"Hoje é quianta-feira\")\n",
    "                else:\n",
    "                    if(dia == 6):\n",
    "                        print(\"Hoje é sexta-feira\")\n",
    "                    else:\n",
    "                        if(dia == 7):\n",
    "                            print(\"Hoje é sabado\")\n",
    "                        else:\n",
    "                            print(\"DIA INVALIDO\")"
   ]
  },
  {
   "cell_type": "markdown",
   "metadata": {},
   "source": [
    "7. Faça um programa que lê as duas notas parciais obtidas por um aluno numa disciplina ao longo de um semestre, e calcule a sua média. A atribuição de conceitos obedece à tabela abaixo:  \n",
    "Média de Aproveitamento  \n",
    "Conceito  Entre 9.0 e 10.0 A  \n",
    "Entre 7.5 e 9.0         B  \n",
    "Entre 6.0 e 7.5         C  \n",
    "Entre 4.0 e 6.0         D  \n",
    "Entre 4.0 e zero        E\n",
    "O algoritmo deve mostrar na tela as notas, a média, o conceito correspondente e a mensagem “APROVADO” se o conceito for A, B ou C ou “REPROVADO” se o conceito for D ou E"
   ]
  },
  {
   "cell_type": "code",
   "execution_count": null,
   "metadata": {},
   "outputs": [],
   "source": [
    "nota1 = int(input(\"Digite a primeira nota\"))\n",
    "nota2 = int(input(\"Digite a segunda nota\"))\n",
    "conceito = 'Z'\n",
    "media = (nota1 + nota2) /2\n",
    "resultado = 'reprovado'\n",
    "if(media >= 7.5 and media <= 10):\n",
    "    conceito = 'A'\n",
    "    resultado = 'apreovado'\n",
    "else:\n",
    "    if(media >= 7.5 and media <= 9):\n",
    "        conceito = 'B'\n",
    "        resultado = 'aprovado'\n",
    "    else:\n",
    "        if(media >= 6 and media <= 7.5):\n",
    "            conceito = 'C'\n",
    "            resultado = 'aprovado'\n",
    "        else:\n",
    "            if(media >= 4 and media <= 6):\n",
    "                conceito = 'D'\n",
    "                resultado = 'REPROVADO'\n",
    "            else:\n",
    "                if(media >= 4 and media <= 0):\n",
    "                    conceito = 'E'\n",
    "                    resultado = 'REPROVADO'\n",
    "print(\"O Aluno foi {} com o conceito {}  e nota {}\" . format(resultado,conceito,media))\n",
    "        "
   ]
  },
  {
   "cell_type": "markdown",
   "metadata": {},
   "source": [
    "8. Faça um Programa que peça os 3 lados de um triângulo. O programa deverá informar se os valores podem ser um triângulo. Indique, caso os lados formem um triângulo, se o mesmo é: equilátero, isósceles ou escaleno.Dicas:- Três lados formam um triângulo quando a soma de quaisquer dois lados for maior que o terceiro;- Triângulo Equilátero: três lados iguais;- Triângulo Isósceles: quaisquer dois lados iguais;- Triângulo Escaleno: três lados diferentes;"
   ]
  },
  {
   "cell_type": "code",
   "execution_count": null,
   "metadata": {},
   "outputs": [],
   "source": [
    "l1 = int(input(\"Digite a medida\"))\n",
    "l2 = int(input(\"Digite a medida\"))\n",
    "l3 = int(input(\"Digite a medida\"))\n",
    "\n",
    "if((l1 +l2 ) > l3 or (l1 +l3 )> l2 or (l2 +l3 ) > l1):\n",
    "    if(l1 == l2  and l1 == l3):\n",
    "        print(\"Triangulo equi\")\n",
    "    else:\n",
    "        if(l1 == l2 or l2 == l3 or l1 == l3):\n",
    "            print(\"Triangulo iso\")\n",
    "        else:\n",
    "            print(\"Triangulo esca\")\n",
    "else:\n",
    "    print(\"Nao forma triangulo\")\n"
   ]
  },
  {
   "cell_type": "markdown",
   "metadata": {},
   "source": [
    "9"
   ]
  },
  {
   "cell_type": "markdown",
   "metadata": {},
   "source": [
    "10. Faça um Programa para um caixa eletrônico. O programa deverá perguntar ao usuário a valor do saque e depois informar quantas notas de cada valor serão fornecidas. As notas disponíveis serão as de 1, 5, 10, 50 e 100 reais. O valor mínimo éde 10 reais e o máximo de 600 reais. O programa não deve se preocupar com a quantidade de notas existentes na máquina.\n",
    "- Exemplo 1: Para sacar a quantia de 256 reais, o programa fornece duas notas de 100, uma nota de 50, uma nota de 5 e uma nota de 1;\n",
    "- Exemplo 2: Para sacar a quantia de 399 reais, o programa fornece três notas de 100, uma nota de 50, quatro notas de 10, uma nota de 5 e quatro notas de 1."
   ]
  },
  {
   "cell_type": "code",
   "execution_count": 15,
   "metadata": {},
   "outputs": [
    {
     "name": "stdout",
     "output_type": "stream",
     "text": [
      "Digite o valor que deseja sacar660\n",
      "Saque atingiu valor maximo\n"
     ]
    }
   ],
   "source": [
    "saque = input(\"Digite o valor que deseja sacar\")\n",
    "if(int(saque) <= 600):\n",
    "    centena = saque[0:1]\n",
    "    dezena = saque[1:2]\n",
    "    unidade = saque[2:]\n",
    "    nota100 =0\n",
    "    nota50=0\n",
    "    nota10=0\n",
    "    nota5=0\n",
    "    nota1=unidade\n",
    "    if(int(dezena) >= 5):\n",
    "        nota50 = 1\n",
    "        nota10 = int(dezena) - 5\n",
    "    if(int(unidade) >= 5):\n",
    "        nota5 = 1\n",
    "        nota1 = (int(unidade)-5)\n",
    "    print(\"Notas devolvidas:Notas de 100: {}\".format(centena))\n",
    "    print(\"Notas de 50: {}\".format(nota50))\n",
    "    print(\"Notas de 10: \".format(nota10))\n",
    "    print(\"Notas de 5: \" .format(nota5))\n",
    "    print(\"Notas de 1: \" .format(nota1))\n",
    "else:\n",
    "    print(\"Saque atingiu valor maximo\")\n"
   ]
  },
  {
   "cell_type": "code",
   "execution_count": null,
   "metadata": {},
   "outputs": [],
   "source": []
  },
  {
   "cell_type": "code",
   "execution_count": null,
   "metadata": {},
   "outputs": [],
   "source": []
  }
 ],
 "metadata": {
  "kernelspec": {
   "display_name": "Python 3",
   "language": "python",
   "name": "python3"
  },
  "language_info": {
   "codemirror_mode": {
    "name": "ipython",
    "version": 3
   },
   "file_extension": ".py",
   "mimetype": "text/x-python",
   "name": "python",
   "nbconvert_exporter": "python",
   "pygments_lexer": "ipython3",
   "version": "3.7.1"
  }
 },
 "nbformat": 4,
 "nbformat_minor": 2
}
